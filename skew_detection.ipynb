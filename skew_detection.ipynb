{
  "nbformat": 4,
  "nbformat_minor": 0,
  "metadata": {
    "colab": {
      "name": "skew_detection",
      "provenance": [],
      "collapsed_sections": [],
      "authorship_tag": "ABX9TyNq7FV0WAhySN49mkiNyJc4",
      "include_colab_link": true
    },
    "kernelspec": {
      "name": "python3",
      "display_name": "Python 3"
    }
  },
  "cells": [
    {
      "cell_type": "markdown",
      "metadata": {
        "id": "view-in-github",
        "colab_type": "text"
      },
      "source": [
        "<a href=\"https://colab.research.google.com/github/swathy-z9q/OCRLogic/blob/master/skew_detection.ipynb\" target=\"_parent\"><img src=\"https://colab.research.google.com/assets/colab-badge.svg\" alt=\"Open In Colab\"/></a>"
      ]
    },
    {
      "cell_type": "code",
      "metadata": {
        "id": "buAxiJkAU_EY",
        "colab_type": "code",
        "colab": {}
      },
      "source": [
        "import numpy as np\n",
        "import os\n",
        "import cv2\n",
        "import matplotlib.pyplot as plt\n",
        "import math\n",
        "import pandas as pd"
      ],
      "execution_count": 1,
      "outputs": []
    },
    {
      "cell_type": "code",
      "metadata": {
        "id": "4Fr3pShjWYxI",
        "colab_type": "code",
        "colab": {}
      },
      "source": [
        "def rotateImage(image, angle):\n",
        "    (h, w) = image.shape[:2]\n",
        "    (cX, cY) = (w // 2, h // 2) #image centre\n",
        "    M = cv2.getRotationMatrix2D((cX, cY), -angle, 1.0)\n",
        "    cos = np.abs(M[0, 0])\n",
        "    sin = np.abs(M[0, 1])\n",
        "    # new dimensions rotated image\n",
        "    nW = int((h * sin) + (w * cos))\n",
        "    nH = int((h * cos) + (w * sin))\n",
        "    M[0, 2] += (nW / 2) - cX\n",
        "    M[1, 2] += (nH / 2) - cY\n",
        "    return cv2.warpAffine(image, M, (nW, nH),borderValue=(255,255,255))"
      ],
      "execution_count": 2,
      "outputs": []
    },
    {
      "cell_type": "code",
      "metadata": {
        "id": "gnyZQDQyWfiX",
        "colab_type": "code",
        "colab": {
          "base_uri": "https://localhost:8080/",
          "height": 34
        },
        "outputId": "4b87b348-c5a2-4a5e-dac9-d14dcfc18ad0"
      },
      "source": [
        "os.listdir()"
      ],
      "execution_count": 3,
      "outputs": [
        {
          "output_type": "execute_result",
          "data": {
            "text/plain": [
              "['.config', 'Motion_New5.jpg', 'sample_data']"
            ]
          },
          "metadata": {
            "tags": []
          },
          "execution_count": 3
        }
      ]
    },
    {
      "cell_type": "code",
      "metadata": {
        "id": "vySfmJi8WxEq",
        "colab_type": "code",
        "colab": {}
      },
      "source": [
        "image  = cv2.imread('Motion_New5.jpg')"
      ],
      "execution_count": 4,
      "outputs": []
    },
    {
      "cell_type": "code",
      "metadata": {
        "id": "3df6S0FgWiYH",
        "colab_type": "code",
        "colab": {
          "base_uri": "https://localhost:8080/",
          "height": 34
        },
        "outputId": "13861c45-6227-4021-e5d9-8562d01c7aac"
      },
      "source": [
        "skewedImage = rotateImage(image,20)\n",
        "cv2.imwrite('skewedImage.jpg',skewedImage)"
      ],
      "execution_count": 309,
      "outputs": [
        {
          "output_type": "execute_result",
          "data": {
            "text/plain": [
              "True"
            ]
          },
          "metadata": {
            "tags": []
          },
          "execution_count": 309
        }
      ]
    },
    {
      "cell_type": "code",
      "metadata": {
        "id": "kCn4B9wLfrU5",
        "colab_type": "code",
        "colab": {}
      },
      "source": [
        "from scipy import stats\n",
        "def remove_horizontal_and_small_noise(image):\n",
        "    if len(image.shape) != 2:\n",
        "        gray = cv2.cvtColor(image, cv2.COLOR_BGR2GRAY)\n",
        "    else:\n",
        "        gray = image\n",
        "    # Remove small dots and horizontal line\n",
        "    edged = cv2.Canny(gray, 30, 200)\n",
        "    contours, hierarchy = cv2.findContours(edged, cv2.RETR_EXTERNAL, cv2.CHAIN_APPROX_NONE)\n",
        "    for contour in contours:\n",
        "        if contour.size >= 1000:\n",
        "            x, y, w, h = cv2.boundingRect(contour)\n",
        "            if h < 30 or w < 30:\n",
        "                cv2.rectangle(image, (x, y), (x+w, y+h), (255, 255, 255), -1)\n",
        "        elif contour.size < 100:\n",
        "            x, y, w, h = cv2.boundingRect(contour)\n",
        "            if stats.mode(gray[y:y+h, x:x+w].flatten())[0][0] > 127:\n",
        "                cv2.rectangle(image, (x, y), (x+w, y+h), (255, 255, 255), -1)\n",
        "        elif contour.size < 25:\n",
        "            cv2.rectangle(image, (x, y), (x+w+2, y+h+2), (255, 255, 255), -1)\n",
        "    # Create structure element for extracting horizontal lines through morphology operations\n",
        "    horizontalStructure = cv2.getStructuringElement(cv2.MORPH_RECT, (50, 1))\n",
        "    # horizontalStructure = np.ones((5,5), np.uint8) \n",
        "    # Apply morphology operations\n",
        "    gray = cv2.erode(image, horizontalStructure, iterations=1)\n",
        "    edged = cv2.Canny(gray, 30, 200)\n",
        "    contours, hierarchy = cv2.findContours(edged, cv2.RETR_EXTERNAL, cv2.CHAIN_APPROX_NONE)\n",
        "    for contour in contours:\n",
        "        if contour.size >= 300:\n",
        "            x, y, w, h = cv2.boundingRect(contour)\n",
        "            if h < 15:\n",
        "                cv2.rectangle(image, (x, y), (x+w, y+h), (255, 255, 255), -1)\n",
        "\n",
        "    return image"
      ],
      "execution_count": 310,
      "outputs": []
    },
    {
      "cell_type": "code",
      "metadata": {
        "id": "GmAyez5dgW1R",
        "colab_type": "code",
        "colab": {}
      },
      "source": [
        "def removeIslandNoise(image):\n",
        "    img_bw = 255*(cv2.cvtColor(image, cv2.COLOR_BGR2GRAY)\n",
        "                  > 5).astype('uint8')\n",
        "    se1 = cv2.getStructuringElement(cv2.MORPH_RECT, (1, 1))\n",
        "    se2 = cv2.getStructuringElement(cv2.MORPH_RECT, (1, 1))\n",
        "    mask = cv2.morphologyEx(img_bw, cv2.MORPH_CLOSE, se1)\n",
        "    mask = cv2.morphologyEx(mask, cv2.MORPH_OPEN, se2)\n",
        "\n",
        "    mask = np.dstack([mask, mask, mask]) / 255\n",
        "    output = image * mask\n",
        "\n",
        "    return output"
      ],
      "execution_count": 311,
      "outputs": []
    },
    {
      "cell_type": "code",
      "metadata": {
        "id": "kVwb0G9Sftx3",
        "colab_type": "code",
        "colab": {
          "base_uri": "https://localhost:8080/",
          "height": 34
        },
        "outputId": "5fa85e2a-1a88-4357-d932-d3b355b62a8c"
      },
      "source": [
        "skewImage = remove_horizontal_and_small_noise(skewedImage)\n",
        "skewImage = removeIslandNoise(skewImage)\n",
        "cv2.imwrite('noiseremoved.jpg',skewImage)"
      ],
      "execution_count": 312,
      "outputs": [
        {
          "output_type": "execute_result",
          "data": {
            "text/plain": [
              "True"
            ]
          },
          "metadata": {
            "tags": []
          },
          "execution_count": 312
        }
      ]
    },
    {
      "cell_type": "markdown",
      "metadata": {
        "id": "kQ-o1dmt9Gmo",
        "colab_type": "text"
      },
      "source": [
        "##1.Binarization of Image by otsu method"
      ]
    },
    {
      "cell_type": "code",
      "metadata": {
        "id": "6i8ZObelWtxG",
        "colab_type": "code",
        "colab": {
          "base_uri": "https://localhost:8080/",
          "height": 34
        },
        "outputId": "ec2855c3-70ba-444c-9767-275e317d7cb0"
      },
      "source": [
        "\n",
        "image_gray = cv2.cvtColor(skewedImage, cv2.COLOR_BGR2GRAY)\n",
        "binaryImage = cv2.threshold(image_gray, 120, 255, cv2.THRESH_BINARY + cv2.THRESH_OTSU)[1]\n",
        "cv2.imwrite('skewedImageBinary.jpg',binaryImage)"
      ],
      "execution_count": 313,
      "outputs": [
        {
          "output_type": "execute_result",
          "data": {
            "text/plain": [
              "True"
            ]
          },
          "metadata": {
            "tags": []
          },
          "execution_count": 313
        }
      ]
    },
    {
      "cell_type": "markdown",
      "metadata": {
        "id": "2hTSgOko9NHg",
        "colab_type": "text"
      },
      "source": [
        "##3.Identifying ccs from image"
      ]
    },
    {
      "cell_type": "code",
      "metadata": {
        "id": "xA0y_MK4YdII",
        "colab_type": "code",
        "colab": {
          "base_uri": "https://localhost:8080/",
          "height": 34
        },
        "outputId": "857fe7d6-44e3-4c4d-d250-88a7b49c76c5"
      },
      "source": [
        "skewimgpreview = skewImage.copy()\n",
        "nb_components, output, stats, centroids = cv2.connectedComponentsWithStats(cv2.bitwise_not(binaryImage), connectivity=8)\n",
        "\n",
        "for i in range(0, nb_components):\n",
        "    x_min = stats[i, 0]\n",
        "    y_min = stats[i, 1]\n",
        "    x_max = stats[i, 0] + stats[i, 2]\n",
        "    y_max = stats[i, 1] + stats[i, 3]\n",
        "\n",
        "    cv2.rectangle(skewimgpreview, (x_min, y_min), (x_max, y_max), (0, 255, 0), 3)\n",
        "cv2.imwrite('output.jpg',skewimgpreview)"
      ],
      "execution_count": 314,
      "outputs": [
        {
          "output_type": "execute_result",
          "data": {
            "text/plain": [
              "True"
            ]
          },
          "metadata": {
            "tags": []
          },
          "execution_count": 314
        }
      ]
    },
    {
      "cell_type": "code",
      "metadata": {
        "id": "44VPhrTfjrJ6",
        "colab_type": "code",
        "colab": {
          "base_uri": "https://localhost:8080/",
          "height": 34
        },
        "outputId": "f92fcf04-f23a-484b-d87b-62e7d3bec092"
      },
      "source": [
        "cv2.imwrite('outputbinary.jpg',binaryImage) "
      ],
      "execution_count": 315,
      "outputs": [
        {
          "output_type": "execute_result",
          "data": {
            "text/plain": [
              "True"
            ]
          },
          "metadata": {
            "tags": []
          },
          "execution_count": 315
        }
      ]
    },
    {
      "cell_type": "code",
      "metadata": {
        "id": "7ueRQ6HAZQxn",
        "colab_type": "code",
        "colab": {}
      },
      "source": [
        "#Erosion dilation to join vertically\n",
        "#kernel = np.ones((1,2), np.uint8)\n",
        "#eroded = cv2.erode(binaryImage,kernel,iterations = 1)\n",
        "#dilated = cv2.dilate(eroded,kernel,iterations = 1)\n",
        "#cv2.imwrite('outputbinary.jpg',dilated) "
      ],
      "execution_count": 15,
      "outputs": []
    },
    {
      "cell_type": "markdown",
      "metadata": {
        "id": "w5MQyjes873a",
        "colab_type": "text"
      },
      "source": [
        "##4.Removing dots or colon dots by filtering bounding box with less than 25 pixels"
      ]
    },
    {
      "cell_type": "code",
      "metadata": {
        "id": "QMyXyRrjce2y",
        "colab_type": "code",
        "colab": {
          "base_uri": "https://localhost:8080/",
          "height": 34
        },
        "outputId": "e34c4792-1962-4a50-b3e2-258e3503e426"
      },
      "source": [
        "skewimgpreview = skewImage.copy()\n",
        "nb_components, output, stats, centroids = cv2.connectedComponentsWithStats(cv2.bitwise_not(binaryImage), connectivity=8)\n",
        "\n",
        "font = cv2.FONT_HERSHEY_SIMPLEX \n",
        "org = (00, 185) \n",
        "fontScale = 1\n",
        "color = (0, 0, 255) \n",
        "thickness = 2\n",
        "\n",
        "for i in range(0, nb_components):\n",
        "    x_min = stats[i, 0]\n",
        "    y_min = stats[i, 1]\n",
        "    x_max = stats[i, 0] + stats[i, 2]\n",
        "    y_max = stats[i, 1] + stats[i, 3]\n",
        "    #Less than 25 pixels should be removed\n",
        "    #Bmax = (Wave × Have) × 4\n",
        "    #Bmin = (Wave × Have) × 0.25\n",
        "    if abs(y_max - y_min) > 25: #Noise removal from ccs\n",
        "      text = str(y_max - y_min)\n",
        "      cv2.putText(skewimgpreview, text,(x_min, y_min), font, fontScale,color, thickness)\n",
        "      cv2.rectangle(skewimgpreview, (x_min, y_min), (x_max, y_max), (0, 255, 0), 3)\n",
        "cv2.imwrite('output.jpg',skewimgpreview)"
      ],
      "execution_count": 316,
      "outputs": [
        {
          "output_type": "execute_result",
          "data": {
            "text/plain": [
              "True"
            ]
          },
          "metadata": {
            "tags": []
          },
          "execution_count": 316
        }
      ]
    },
    {
      "cell_type": "markdown",
      "metadata": {
        "id": "qnMfBO4B9o2a",
        "colab_type": "text"
      },
      "source": [
        "##5.Bmax and Bmin set thresholds for the size-based filtering - non-text CCs filtering\n",
        "\n",
        "\n",
        "*   Wave-->mean width value of all bounding box of ccs\n",
        "*   Have-->mean Height value of all bounding box of ccs\n",
        "\n",
        "\n",
        "\n",
        "\n",
        "```\n",
        "Bmax = (Wave × Have) × 4\n",
        "Bmin = (Wave × Have) × 0.25\n",
        "```\n",
        "\n"
      ]
    },
    {
      "cell_type": "code",
      "metadata": {
        "id": "D7RTFq829tAQ",
        "colab_type": "code",
        "colab": {
          "base_uri": "https://localhost:8080/",
          "height": 67
        },
        "outputId": "ccd5848b-ffe1-412d-eabe-38819c346915"
      },
      "source": [
        "skewimgpreview = skewImage.copy()\n",
        "nb_components, output, stats, centroids = cv2.connectedComponentsWithStats(cv2.bitwise_not(binaryImage), connectivity=8)\n",
        "widths = []\n",
        "heights = []\n",
        "font = cv2.FONT_HERSHEY_SIMPLEX \n",
        "org = (00, 185) \n",
        "fontScale = 1\n",
        "color = (0, 0, 255) \n",
        "thickness = 2\n",
        "for i in range(0, nb_components):\n",
        "    x_min = stats[i, 0]\n",
        "    y_min = stats[i, 1]\n",
        "    x_max = stats[i, 0] + stats[i, 2]\n",
        "    y_max = stats[i, 1] + stats[i, 3]\n",
        "    if abs(y_max - y_min) > 25: #Noise removal from ccs\n",
        "      widths.append(abs(x_max-x_min))\n",
        "      heights.append(abs(y_max-y_min))\n",
        "      #text = str(x_max - x_min)\n",
        "      #cv2.putText(skewimgpreview, text,(x_min, y_min), font, fontScale,color, thickness)\n",
        "      cv2.rectangle(skewimgpreview, (x_min, y_min), (x_max, y_max), (0, 255, 0), 3)\n",
        "Have = np.mean(heights)\n",
        "Wave = np.mean(widths)\n",
        "cv2.imwrite('output.jpg',skewimgpreview)\n",
        "print('Average Width',Wave)\n",
        "print('Average Height',Have)\n",
        "Bmax = (Wave * Have) * 4\n",
        "Bmin = (Wave * Have) * 0.25\n",
        "print('Bmax---->',Bmax,'   Bmin---->',Bmin)"
      ],
      "execution_count": 317,
      "outputs": [
        {
          "output_type": "stream",
          "text": [
            "Average Width 36.04971447766208\n",
            "Average Height 46.02519314746389\n",
            "Bmax----> 6636.7802869812895    Bmin----> 414.7987679363306\n"
          ],
          "name": "stdout"
        }
      ]
    },
    {
      "cell_type": "code",
      "metadata": {
        "id": "prRuxgGrAXKR",
        "colab_type": "code",
        "colab": {
          "base_uri": "https://localhost:8080/",
          "height": 34
        },
        "outputId": "f04655fa-d2f7-4bb7-b2c0-2b57b7b2fc59"
      },
      "source": [
        "skewimgpreview = skewImage.copy()\n",
        "nb_components, output, stats, centroids = cv2.connectedComponentsWithStats(cv2.bitwise_not(binaryImage), connectivity=8)\n",
        "widths = []\n",
        "heights = []\n",
        "font = cv2.FONT_HERSHEY_SIMPLEX \n",
        "org = (00, 185) \n",
        "fontScale = 1\n",
        "color = (0, 0, 255) \n",
        "thickness = 2\n",
        "for i in range(0, nb_components):\n",
        "    x_min = stats[i, 0]\n",
        "    y_min = stats[i, 1]\n",
        "    x_max = stats[i, 0] + stats[i, 2]\n",
        "    y_max = stats[i, 1] + stats[i, 3]\n",
        "    \n",
        "    if abs(y_max - y_min) > 25 and (Bmax > (abs(x_max-x_min) * abs(y_max-y_min)) > Bmin) : #Noise removal from ccs\n",
        "      widths.append(abs(x_max-x_min))\n",
        "      heights.append(abs(y_max-y_min))\n",
        "      #text = str(x_max - x_min)\n",
        "      #cv2.putText(skewimgpreview, text,(x_min, y_min), font, fontScale,color, thickness)\n",
        "      cv2.rectangle(skewimgpreview, (x_min, y_min), (x_max, y_max), (0, 255, 0), 3)\n",
        "cv2.imwrite('output.jpg',skewimgpreview)\n"
      ],
      "execution_count": 318,
      "outputs": [
        {
          "output_type": "execute_result",
          "data": {
            "text/plain": [
              "True"
            ]
          },
          "metadata": {
            "tags": []
          },
          "execution_count": 318
        }
      ]
    },
    {
      "cell_type": "markdown",
      "metadata": {
        "id": "Dm8iotBw9e44",
        "colab_type": "text"
      },
      "source": [
        "##6.Removing type A and C letters\n",
        "Aspect ratios to remove A and C type CCs\n",
        "bounding boxes width & height w(Bi) and h(Bi).\n",
        "removing CCs that violate\n",
        "```\n",
        "α < w(Bi)/h(Bi) < β\n",
        "α and β are two constants 0.6 and 2\n",
        "```\n",
        "\n",
        "And finding out centres for all Eligible connected Components"
      ]
    },
    {
      "cell_type": "code",
      "metadata": {
        "id": "kpEjtEmr62Ec",
        "colab_type": "code",
        "colab": {
          "base_uri": "https://localhost:8080/",
          "height": 34
        },
        "outputId": "181a6b11-4239-431f-ce42-5a8454ead3a6"
      },
      "source": [
        "skewimgpreview = skewImage.copy()\n",
        "blankImage = np.zeros([6476,5084,3],dtype=np.uint8)\n",
        "blankImage.fill(255)\n",
        "nb_components, output, stats, centroids = cv2.connectedComponentsWithStats(cv2.bitwise_not(binaryImage), connectivity=8)\n",
        "widths = []\n",
        "heights = []\n",
        "a = 0.6\n",
        "b = 2\n",
        "font = cv2.FONT_HERSHEY_SIMPLEX \n",
        "org = (00, 185) \n",
        "eligibleCCs = []\n",
        "fontScale = 1\n",
        "color = (0, 0, 255) \n",
        "thickness = 2\n",
        "for i in range(0, nb_components):\n",
        "    x_min = stats[i, 0]\n",
        "    y_min = stats[i, 1]\n",
        "    x_max = stats[i, 0] + stats[i, 2]\n",
        "    y_max = stats[i, 1] + stats[i, 3]\n",
        "    y_centre = int(abs(y_max - y_min)/2 + y_min)\n",
        "    x_centre = int(abs(x_max - x_min)/2 + x_min)\n",
        "    if abs(y_max - y_min) > 25 and (Bmax > (abs(x_max-x_min) * abs(y_max-y_min)) > Bmin) and a < abs(x_max-x_min)/abs(y_max-y_min) < b: \n",
        "      eligibleCCs.append((x_min,y_min,x_max,y_max,x_centre,y_centre))\n",
        "      cv2.rectangle(skewimgpreview, (x_min, y_min), (x_max, y_max), (0, 255, 0), 3)\n",
        "      cv2.circle(blankImage, (x_centre,y_centre), 5, (0, 0, 255) , -1) \n",
        "cv2.imwrite('outputWithCentre.jpg',blankImage)\n",
        "cv2.imwrite('finalACRemovedLetters.jpg',skewimgpreview)"
      ],
      "execution_count": 319,
      "outputs": [
        {
          "output_type": "execute_result",
          "data": {
            "text/plain": [
              "True"
            ]
          },
          "metadata": {
            "tags": []
          },
          "execution_count": 319
        }
      ]
    },
    {
      "cell_type": "markdown",
      "metadata": {
        "id": "doap1XnrGvVq",
        "colab_type": "text"
      },
      "source": [
        "##randomly select two ECCs of a document to calculate its slope, and put the\n",
        "##resulting slope into a histogram. Then, we repeat the centers selection and slope calculation until\n",
        "##the number of selections reaches a predefined threshold. Generally, the peak of histogram gives the\n",
        "##slope of skew document. Considering that some documents with a small number of ECCs need\n",
        "##repeated centers selection to increase the accuracy of the results"
      ]
    },
    {
      "cell_type": "code",
      "metadata": {
        "id": "1_hrcv0BBstf",
        "colab_type": "code",
        "colab": {
          "base_uri": "https://localhost:8080/",
          "height": 101
        },
        "outputId": "fa41c126-b175-4354-e17e-0cf5f5d294ec"
      },
      "source": [
        "eligibleCCs = np.array(eligibleCCs)\n",
        "eligibleCCs[:5]"
      ],
      "execution_count": 320,
      "outputs": [
        {
          "output_type": "execute_result",
          "data": {
            "text/plain": [
              "array([[2248,  413, 2300,  468, 2274,  440],\n",
              "       [2358,  453, 2413,  509, 2385,  481],\n",
              "       [2412,  470, 2469,  534, 2440,  502],\n",
              "       [2492,  482, 2560,  552, 2526,  517],\n",
              "       [2140,  532, 2189,  585, 2164,  558]])"
            ]
          },
          "metadata": {
            "tags": []
          },
          "execution_count": 320
        }
      ]
    },
    {
      "cell_type": "markdown",
      "metadata": {
        "id": "gRe7eursJWiw",
        "colab_type": "text"
      },
      "source": [
        "##7.Randomly selecting two ECCs and calculating slope\n",
        "![alt text](https://cls.syr.edu/mathtuneup/grapha/Unit4/UnitFour/Four5.GIF)\n",
        "\n",
        "\n",
        "  if abs(eccs[0][0] - eccs[1][0]) < 500:\n",
        "    return eccs[0],eccs[1]\n",
        "  else:"
      ]
    },
    {
      "cell_type": "code",
      "metadata": {
        "id": "EZka-JfYIHA-",
        "colab_type": "code",
        "colab": {}
      },
      "source": [
        "def random_ecc_sample(arr: np.array, size: int = 2):\n",
        "  eccs = arr[np.random.choice(len(arr), size=size, replace=False)]\n",
        "  return eccs[0],eccs[1] "
      ],
      "execution_count": 321,
      "outputs": []
    },
    {
      "cell_type": "code",
      "metadata": {
        "id": "MsVqe1qBT5Ij",
        "colab_type": "code",
        "colab": {
          "base_uri": "https://localhost:8080/",
          "height": 34
        },
        "outputId": "c707055a-b7dd-4d98-9433-fd235b8fd1d6"
      },
      "source": [
        "len(eligibleCCs)"
      ],
      "execution_count": 322,
      "outputs": [
        {
          "output_type": "execute_result",
          "data": {
            "text/plain": [
              "2288"
            ]
          },
          "metadata": {
            "tags": []
          },
          "execution_count": 322
        }
      ]
    },
    {
      "cell_type": "code",
      "metadata": {
        "id": "nlApYLFIJotx",
        "colab_type": "code",
        "colab": {}
      },
      "source": [
        "def calculateSlope(ecc1,ecc2):\n",
        "  x1,x2,y1,y2 = ecc1[-2],ecc2[-2],ecc1[-1],ecc2[-1]\n",
        "  if x2 - x1 != 0:\n",
        "    return (y2 - y1)/(x2-x1)"
      ],
      "execution_count": 323,
      "outputs": []
    },
    {
      "cell_type": "code",
      "metadata": {
        "id": "FtmmfztgImp0",
        "colab_type": "code",
        "colab": {}
      },
      "source": [
        "slopeVals = []\n",
        "for i in range(0,8*len(eligibleCCs)):\n",
        "  ecc1,ecc2 = random_ecc_sample(eligibleCCs)\n",
        "  slope = calculateSlope(ecc1,ecc2)\n",
        "  if slope != None :\n",
        "    slopeVals.append(round(slope,2))"
      ],
      "execution_count": 324,
      "outputs": []
    },
    {
      "cell_type": "code",
      "metadata": {
        "id": "sXwYTLnSwkfV",
        "colab_type": "code",
        "colab": {
          "base_uri": "https://localhost:8080/",
          "height": 50
        },
        "outputId": "8e2de5ea-c768-4c53-8f32-61ef30894e5c"
      },
      "source": [
        "slopeVals = np.array(slopeVals)\n",
        "hist,bins = np.histogram(slopeVals)\n",
        "bins"
      ],
      "execution_count": 325,
      "outputs": [
        {
          "output_type": "execute_result",
          "data": {
            "text/plain": [
              "array([-1668. , -1271.5,  -875. ,  -478.5,   -82. ,   314.5,   711. ,\n",
              "        1107.5,  1504. ,  1900.5,  2297. ])"
            ]
          },
          "metadata": {
            "tags": []
          },
          "execution_count": 325
        }
      ]
    },
    {
      "cell_type": "code",
      "metadata": {
        "id": "LG_3nQTmyKCG",
        "colab_type": "code",
        "colab": {
          "base_uri": "https://localhost:8080/",
          "height": 34
        },
        "outputId": "294939a2-2763-46c7-dfdc-58da0d50d524"
      },
      "source": [
        "t_slopes =  pd.Series(slopeVals).value_counts().sort_values(ascending= False).index[:3]\n",
        "t_slopes"
      ],
      "execution_count": 326,
      "outputs": [
        {
          "output_type": "execute_result",
          "data": {
            "text/plain": [
              "Float64Index([0.36, 0.37, 0.04], dtype='float64')"
            ]
          },
          "metadata": {
            "tags": []
          },
          "execution_count": 326
        }
      ]
    },
    {
      "cell_type": "code",
      "metadata": {
        "id": "b4npbcMJKHP1",
        "colab_type": "code",
        "colab": {
          "base_uri": "https://localhost:8080/",
          "height": 295
        },
        "outputId": "f1e80a42-b7e4-46a1-922f-0a4b4108713b"
      },
      "source": [
        "pd.Series(t_slopes).plot.hist(grid=True, rwidth=0.25,color='#607c8e')\n",
        "plt.title('Slope for 8 times the len of ECCS')\n",
        "plt.xlabel('Counts')\n",
        "plt.ylabel('Slope of ecc randomely selected two centres')\n",
        "plt.grid(axis='y', alpha=0.75)"
      ],
      "execution_count": 327,
      "outputs": [
        {
          "output_type": "display_data",
          "data": {
            "image/png": "[encoded data removed]",
            "text/plain": [
              "<Figure size 432x288 with 1 Axes>"
            ]
          },
          "metadata": {
            "tags": [],
            "needs_background": "light"
          }
        }
      ]
    },
    {
      "cell_type": "markdown",
      "metadata": {
        "id": "2pNZbEtBzoIq",
        "colab_type": "text"
      },
      "source": [
        "##Algorithm: to find the optimal skew angle value."
      ]
    },
    {
      "cell_type": "markdown",
      "metadata": {
        "id": "rWfK-EqY4Etn",
        "colab_type": "text"
      },
      "source": [
        "##1. Find the difference between the maximum value and the minimum value Range.\n",
        "##Range = S5 − S2\n",
        "##Gap = |S5 − S3|\n",
        "##Step 4: Calculate the experiment Q value (Qexp).\n",
        "Qexp =\n",
        "Gap\n",
        "Range =\n",
        "|S5 − S3|\n",
        "S5 − S2"
      ]
    },
    {
      "cell_type": "code",
      "metadata": {
        "id": "lF2zABi8QKC8",
        "colab_type": "code",
        "colab": {}
      },
      "source": [
        "Q90 = [0.941, 0.765, 0.642, 0.56, 0.507, 0.468, 0.437,\n",
        "       0.412, 0.392, 0.376, 0.361, 0.349, 0.338, 0.329,\n",
        "       0.32, 0.313, 0.306, 0.3, 0.295, 0.29, 0.285, 0.281,\n",
        "       0.277, 0.273, 0.269, 0.266, 0.263, 0.26\n",
        "      ]\n",
        "q99 = [0.994, 0.926, 0.821, 0.74, 0.68, 0.634, 0.598, 0.568,\n",
        "       0.542, 0.522, 0.503, 0.488, 0.475, 0.463, 0.452, 0.442,\n",
        "       0.433, 0.425, 0.418, 0.411, 0.404, 0.399, 0.393, 0.388,\n",
        "       0.384, 0.38, 0.376, 0.372\n",
        "       ]"
      ],
      "execution_count": 328,
      "outputs": []
    },
    {
      "cell_type": "code",
      "metadata": {
        "id": "HPT9nH6HCcZ0",
        "colab_type": "code",
        "colab": {}
      },
      "source": [
        "def dixon_test(data, left=True, right=True, q_dict=Q90):\n",
        "  sdata = sorted(data)\n",
        "  Q_mindiff, Q_maxdiff = (0,0), (0,0)\n",
        "\n",
        "  if left:\n",
        "      Q_min = (sdata[1] - sdata[0])\n",
        "      try:\n",
        "          Q_min /= (sdata[-1] - sdata[0])\n",
        "      except ZeroDivisionError:\n",
        "          pass\n",
        "      Q_mindiff = (Q_min - q_dict[len(data)], sdata[0])\n",
        "\n",
        "  if right:\n",
        "      Q_max = abs((sdata[-2] - sdata[-1]))\n",
        "      try:\n",
        "          Q_max /= abs((sdata[0] - sdata[-1]))\n",
        "      except ZeroDivisionError:\n",
        "          pass\n",
        "      Q_maxdiff = (Q_max - q_dict[len(data)], sdata[-1])\n",
        "\n",
        "  if not Q_mindiff[0] > 0 and not Q_maxdiff[0] > 0:\n",
        "      outliers = []\n",
        "\n",
        "  elif Q_mindiff[0] == Q_maxdiff[0]:\n",
        "      outliers = [Q_mindiff[1], Q_maxdiff[1]]\n",
        "\n",
        "  elif Q_mindiff[0] > Q_maxdiff[0]:\n",
        "      outliers = [Q_mindiff[1]]\n",
        "\n",
        "  else:\n",
        "      outliers = [Q_maxdiff[1]]\n",
        "\n",
        "  return outliers"
      ],
      "execution_count": 329,
      "outputs": []
    },
    {
      "cell_type": "code",
      "metadata": {
        "id": "5oi-DAwBDifi",
        "colab_type": "code",
        "colab": {}
      },
      "source": [
        "outliers = []\n",
        "while(outliers != -1):  \n",
        "  outliers = dixon_test(t_slopes)\n",
        "  print(outliers)\n",
        "  outliers = outliers if len(outliers)>0 else -1\n",
        "  if outliers != -1:\n",
        "    t_slopes = list(set(t_slopes) - set(outliers))\n",
        "  else:\n",
        "    break"
      ],
      "execution_count": null,
      "outputs": []
    },
    {
      "cell_type": "code",
      "metadata": {
        "id": "PKWUAdU3VtO8",
        "colab_type": "code",
        "colab": {
          "base_uri": "https://localhost:8080/",
          "height": 34
        },
        "outputId": "7c9e09b3-a397-41c3-aedd-9b5b809f8c0e"
      },
      "source": [
        "outliers = dixon_test(t_slopes)\n",
        "t_slopes = list(set(t_slopes) - set(outliers))\n",
        "t_slopes"
      ],
      "execution_count": 330,
      "outputs": [
        {
          "output_type": "execute_result",
          "data": {
            "text/plain": [
              "[0.36, 0.37]"
            ]
          },
          "metadata": {
            "tags": []
          },
          "execution_count": 330
        }
      ]
    },
    {
      "cell_type": "code",
      "metadata": {
        "id": "UMpTGt5pE-vT",
        "colab_type": "code",
        "colab": {}
      },
      "source": [
        "soptimal = np.median(t_slopes)"
      ],
      "execution_count": 331,
      "outputs": []
    },
    {
      "cell_type": "markdown",
      "metadata": {
        "id": "sQLQ9AREFpnj",
        "colab_type": "text"
      },
      "source": [
        "\n",
        "```\n",
        "θ = arctan\u0010(Soptm)\u0011X 180 / π\n",
        "```\n",
        "\n"
      ]
    },
    {
      "cell_type": "code",
      "metadata": {
        "id": "VjfiA--XF4qV",
        "colab_type": "code",
        "colab": {
          "base_uri": "https://localhost:8080/",
          "height": 34
        },
        "outputId": "2a3d362c-a9d3-4bde-c8e4-40c339fa04ce"
      },
      "source": [
        "sa = (math.atan(soptimal) * 180 )/math.pi \n",
        "print ( (math.atan(soptimal) * 180 )/math.pi )\n"
      ],
      "execution_count": 332,
      "outputs": [
        {
          "output_type": "stream",
          "text": [
            "20.052082146098538\n"
          ],
          "name": "stdout"
        }
      ]
    },
    {
      "cell_type": "code",
      "metadata": {
        "id": "sVCOICZFYz3V",
        "colab_type": "code",
        "colab": {
          "base_uri": "https://localhost:8080/",
          "height": 34
        },
        "outputId": "ac7b777c-eb9d-4caa-990f-46080f2e167e"
      },
      "source": [
        "yy = rotateImage(skewedImage,-sa)\n",
        "cv2.imwrite('final.jpg',yy)"
      ],
      "execution_count": 333,
      "outputs": [
        {
          "output_type": "execute_result",
          "data": {
            "text/plain": [
              "True"
            ]
          },
          "metadata": {
            "tags": []
          },
          "execution_count": 333
        }
      ]
    },
    {
      "cell_type": "code",
      "metadata": {
        "id": "8yk6Zb8MKhMH",
        "colab_type": "code",
        "colab": {
          "base_uri": "https://localhost:8080/",
          "height": 282
        },
        "outputId": "90c8ea19-8af7-4269-baf4-e3f5420959c9"
      },
      "source": [
        "import seaborn as sns\n",
        "sns.distplot(slopeVals)"
      ],
      "execution_count": 334,
      "outputs": [
        {
          "output_type": "execute_result",
          "data": {
            "text/plain": [
              "<matplotlib.axes._subplots.AxesSubplot at 0x7f9ad9f55240>"
            ]
          },
          "metadata": {
            "tags": []
          },
          "execution_count": 334
        },
        {
          "output_type": "display_data",
          "data": {
            "image/png": "[encoded data removed]",
            "text/plain": [
              "<Figure size 432x288 with 1 Axes>"
            ]
          },
          "metadata": {
            "tags": [],
            "needs_background": "light"
          }
        }
      ]
    },
    {
      "cell_type": "code",
      "metadata": {
        "id": "dLPUp9lObDg-",
        "colab_type": "code",
        "colab": {}
      },
      "source": [
        "def count_dist_peaks(series, bins, prominence, width):\n",
        "  count, division = np.histogram(series, bins=bins)\n",
        "  peaks, props = find_peaks(count, prominence=prominence, width=width)\n",
        "  return peaks"
      ],
      "execution_count": 294,
      "outputs": []
    },
    {
      "cell_type": "code",
      "metadata": {
        "id": "e7AIcpPatbUm",
        "colab_type": "code",
        "colab": {}
      },
      "source": [
        "yy = rotateImage(skewedImage,rot + 90)"
      ],
      "execution_count": 374,
      "outputs": []
    },
    {
      "cell_type": "code",
      "metadata": {
        "id": "JGvyLp4vHR4Y",
        "colab_type": "code",
        "colab": {
          "base_uri": "https://localhost:8080/",
          "height": 34
        },
        "outputId": "9101ba9d-def6-47c2-ee65-f64bbc60b856"
      },
      "source": [
        ""
      ],
      "execution_count": 373,
      "outputs": [
        {
          "output_type": "execute_result",
          "data": {
            "text/plain": [
              "True"
            ]
          },
          "metadata": {
            "tags": []
          },
          "execution_count": 373
        }
      ]
    },
    {
      "cell_type": "code",
      "metadata": {
        "id": "-yaKRYVV4EJf",
        "colab_type": "code",
        "colab": {}
      },
      "source": [
        "\n",
        "def Q_Test(peakSlopes,Qcrit =   0.740):\n",
        "  outliers = []\n",
        "  Range =  abs(peakSlopes[0] - peakSlopes[-1])\n",
        "  for i,slope in enumerate(peakSlopes):\n",
        "    if(i != len(peakSlopes) - 1):\n",
        "      rSlopes = set(peakSlopes) - set([slope])\n",
        "      Gap = abs(slope - peakSlopes[i+1])\n",
        "      Qexp = Gap/Range\n",
        "      print(slope,peakSlopes[i+1],Gap,Range)\n",
        "      print(Qexp)\n",
        "      if Qcrit < Qexp:\n",
        "        outliers.append(slope)\n",
        "  return outliers\n",
        "\n",
        "\n"
      ],
      "execution_count": 118,
      "outputs": []
    }
  ]
}